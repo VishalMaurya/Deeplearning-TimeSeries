{
  "nbformat": 4,
  "nbformat_minor": 0,
  "metadata": {
    "colab": {
      "name": "LSTM_TimeSeries_basic.ipynb",
      "provenance": [],
      "authorship_tag": "ABX9TyNhOZSzTUdqODqWF0dHIkTu",
      "include_colab_link": true
    },
    "kernelspec": {
      "name": "python3",
      "display_name": "Python 3"
    }
  },
  "cells": [
    {
      "cell_type": "markdown",
      "metadata": {
        "id": "view-in-github",
        "colab_type": "text"
      },
      "source": [
        "<a href=\"https://colab.research.google.com/github/VishalMaurya/Deeplearning-TimeSeries/blob/main/LSTM_TimeSeries_basic.ipynb\" target=\"_parent\"><img src=\"https://colab.research.google.com/assets/colab-badge.svg\" alt=\"Open In Colab\"/></a>"
      ]
    },
    {
      "cell_type": "markdown",
      "metadata": {
        "id": "D4pvQefr9u42"
      },
      "source": [
        "# Using RNNs for time series forecasting\n",
        "This notebook is for better understand Time Series data and how to build models/pipeline using Deep Learning (Recurrent Neural Networks) in tensorflow(keras).Keras is a high level API of tensorflow implelemntation for fast prototyping for model architcture. We will preprocess Time Series, build a simple LSTM model, train it, and use it to make predictions."
      ]
    },
    {
      "cell_type": "code",
      "metadata": {
        "id": "6W1mj_Pe9E2D"
      },
      "source": [
        "import numpy as np\n",
        "import pandas as pd\n",
        "import seaborn as sns\n",
        "from pylab import rcParams\n",
        "import matplotlib.pyplot as plt\n",
        "from matplotlib import rc\n",
        "\n",
        "\n",
        "import tensorflow as tf\n",
        "from tensorflow import keras"
      ],
      "execution_count": null,
      "outputs": []
    },
    {
      "cell_type": "markdown",
      "metadata": {
        "id": "-FxQXjcy9tt_"
      },
      "source": [
        ""
      ]
    }
  ]
}